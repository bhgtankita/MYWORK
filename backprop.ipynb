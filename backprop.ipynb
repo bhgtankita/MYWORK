{
  "nbformat": 4,
  "nbformat_minor": 0,
  "metadata": {
    "colab": {
      "name": "backprop.ipynb",
      "version": "0.3.2",
      "provenance": [],
      "collapsed_sections": [],
      "include_colab_link": true
    },
    "kernelspec": {
      "name": "python3",
      "display_name": "Python 3"
    },
    "accelerator": "GPU"
  },
  "cells": [
    {
      "cell_type": "markdown",
      "metadata": {
        "id": "view-in-github",
        "colab_type": "text"
      },
      "source": [
        "<a href=\"https://colab.research.google.com/github/bhgtankita/MYWORK/blob/master/backprop.ipynb\" target=\"_parent\"><img src=\"https://colab.research.google.com/assets/colab-badge.svg\" alt=\"Open In Colab\"/></a>"
      ]
    },
    {
      "cell_type": "markdown",
      "metadata": {
        "id": "6-kMPiuVDmM5",
        "colab_type": "text"
      },
      "source": [
        "# <h>BACKPROPOGATION</h>\n",
        "![](https://raw.githubusercontent.com/bhgtankita/ML-DNN/master/images/Backprop.PNG)\n",
        "\n",
        "\n",
        "## *<h>Formulas</h>*\n",
        "\n",
        "### Forward Pass :\n",
        "\n",
        "$\\begin{bmatrix} h_1 & h_2 \\end{bmatrix} = \\begin{bmatrix} i_1 & i_2 \\end{bmatrix} . \\begin{bmatrix} w_1 & w_3 \\\\ w_2 & w_4 \\end{bmatrix}$\n",
        "\n",
        "$\\begin{bmatrix} prediction \\end{bmatrix} = \\begin{bmatrix} h_1 & h_2 \\end{bmatrix} . \\begin{bmatrix} w_5 \\\\ w_6 \\end{bmatrix}$\n",
        "\n",
        "### Backward Pass :\n",
        "\n",
        "$\\begin{bmatrix} w_5 \\\\ w_6 \\end{bmatrix} = \\begin{bmatrix} w_5 \\\\ w_6 \\end{bmatrix} - a . \\Delta . \\begin{bmatrix} h_1 \\\\ h_2 \\end{bmatrix}$\n",
        "\n",
        "$\\begin{bmatrix} w_1 & w_3 \\\\ w_2 & w_4 \\end{bmatrix} = \\begin{bmatrix} w_1 & w_3 \\\\ w_2 & w_4 \\end{bmatrix} - a . \\Delta .  \\begin{bmatrix} i_1 \\\\ i_2 \\end{bmatrix} .  \\begin{bmatrix} w_5 & w_6 \\end{bmatrix}$\n",
        "\n",
        "\n",
        "## *Example*\n",
        "\n",
        "### Input Neurons :\n",
        "\n",
        "$i_1$ = 2\n",
        "\n",
        "$i_2$ = 3\n",
        "\n",
        "\n",
        "### Weights :\n",
        "\n",
        "$w_1$ = 0.13\n",
        "\n",
        "$w_2$ = 0.19\n",
        "\n",
        "$w_3$ = 0.14\n",
        "\n",
        "$w_4$ = 0.05\n",
        "\n",
        "$w_5$ = 0.15\n",
        "\n",
        "$w_6$ = 0.08\n",
        "\n",
        "### Actual Output :\n",
        "\n",
        "1\n",
        "\n",
        "### Learning Rate ($a$) :\n",
        "0.05\n",
        "\n",
        "### Step 1 - Forward Pass #1 :\n",
        "\n",
        "$\\begin{bmatrix} h_1 & h_2 \\end{bmatrix} = \\begin{bmatrix} 2 & 3 \\end{bmatrix} . \\begin{bmatrix} 0.13 & 0.14 \\\\ 0.19 & 0.05 \\end{bmatrix} = \\begin{bmatrix} 0.83 & 0.43 \\end{bmatrix}$\n",
        "\n",
        "$\\begin{bmatrix} prediction \\end{bmatrix} = \\begin{bmatrix} 0.83 & 0.43 \\end{bmatrix} . \\begin{bmatrix} 0.15 \\\\ 0.08 \\end{bmatrix} =  \\begin{bmatrix} 0.1589 \\end{bmatrix}$\n",
        "\n",
        "### Step 2 - Find the Error ($\\Delta$)\n",
        "\n",
        "$\\Delta = Prediction - Actual = 0.1589 - 1 = -0.8411$\n",
        "\n",
        "### Step 3 - Back propogation :\n",
        "\n",
        "$\\begin{bmatrix} w_5 \\\\ w_6 \\end{bmatrix} = \\begin{bmatrix} 0.15 \\\\ 0.08 \\end{bmatrix} - 0.05 . -0.8411 . \\begin{bmatrix} 0.83 \\\\ 0.43 \\end{bmatrix} = \\begin{bmatrix} 0.15 \\\\ 0.08 \\end{bmatrix} - \\begin{bmatrix} -0.034 \\\\ -0.018 \\end{bmatrix} = \\begin{bmatrix} 0.18 \\\\ 0.09 \\end{bmatrix}$\n",
        "\n",
        "$\\begin{bmatrix} w_1 & w_3 \\\\ w_2 & w_4 \\end{bmatrix} = \\begin{bmatrix} 0.13 & 0.14 \\\\ 0.19 & 0.05 \\end{bmatrix} - 0.05 . -0.8411 .  \\begin{bmatrix} 2 \\\\ 3 \\end{bmatrix} .  \\begin{bmatrix} 0.15 & 0.08 \\end{bmatrix} = \\begin{bmatrix} 0.14 & 0.15 \\\\ 0.20 & 0.06 \\end{bmatrix}$\n",
        "\n",
        "### Step 4 - Forward Pass #2 :\n",
        "\n",
        "Updated Weights :\n",
        "\n",
        "$w_1$ = 0.13\n",
        "\n",
        "$w_2$ = 0.19\n",
        "\n",
        "$w_3$ = 0.14\n",
        "\n",
        "$w_4$ = 0.05\n",
        "\n",
        "$w_5$ = 0.15\n",
        "\n",
        "$w_6$ = 0.08\n",
        "\n",
        "$\\begin{bmatrix} h_1 & h_2 \\end{bmatrix} = \\begin{bmatrix} 2 & 3 \\end{bmatrix} . \\begin{bmatrix} 0.14 & 0.15 \\\\ 0.20 & 0.06 \\end{bmatrix} = \\begin{bmatrix} 0.91 & 0.47 \\end{bmatrix}$\n",
        "\n",
        "$\\begin{bmatrix} prediction \\end{bmatrix} = \\begin{bmatrix} 0.91 & 0.47 \\end{bmatrix} . \\begin{bmatrix} 0.15 \\\\ 0.08 \\end{bmatrix} =  \\begin{bmatrix} 0.2151 \\end{bmatrix}$"
      ]
    },
    {
      "cell_type": "markdown",
      "metadata": {
        "id": "EySQRD1eyT7o",
        "colab_type": "text"
      },
      "source": [
        "# Import libraries"
      ]
    },
    {
      "cell_type": "code",
      "metadata": {
        "id": "cDAUiUn1Dlam",
        "colab_type": "code",
        "colab": {}
      },
      "source": [
        "import numpy as np\n",
        "import itertools"
      ],
      "execution_count": 0,
      "outputs": []
    },
    {
      "cell_type": "markdown",
      "metadata": {
        "id": "Icc0D9wrBnXx",
        "colab_type": "text"
      },
      "source": [
        "#Initialization"
      ]
    },
    {
      "cell_type": "code",
      "metadata": {
        "id": "YlOl4pzghQT1",
        "colab_type": "code",
        "colab": {}
      },
      "source": [
        "input_l = [2, 3]\n",
        "weights = [0.13, 0.19, 0.14, 0.05, 0.15, 0.08]\n",
        "lr_rate = 0.05\n",
        "actual_output = 1.0"
      ],
      "execution_count": 0,
      "outputs": []
    },
    {
      "cell_type": "markdown",
      "metadata": {
        "id": "EsYzifgnybVB",
        "colab_type": "text"
      },
      "source": [
        "# Forward pass function"
      ]
    },
    {
      "cell_type": "code",
      "metadata": {
        "id": "KrjR5mkl4WVm",
        "colab_type": "code",
        "colab": {}
      },
      "source": [
        "def forward_pass(input_neurons, weights):\n",
        "  input_array = np.asarray(input_neurons) # convert to array\n",
        "  weights_array = np.asarray(weights) # convert to array\n",
        "  \n",
        "  hidden_weights = (np.asarray(weights)[:4]).reshape((2,2)).transpose() # extract first 4 (w1, w2, w3, w4) elements from weights array and reshape in 2x2 format\n",
        "  \n",
        "  hidden_l = np.dot(input_array,hidden_weights) # dot product of input array and weights w1, w2, w3, w4\n",
        "  \n",
        "  output_weights = (np.asarray(weights)[4:]).reshape((2,1)) # extract last 2 elements (w5, w6) from weights array \n",
        "  output_l = np.dot(hidden_l, output_weights) # dot product of input array and weights w5, w6\n",
        "    \n",
        "  return output_l, hidden_l"
      ],
      "execution_count": 0,
      "outputs": []
    },
    {
      "cell_type": "markdown",
      "metadata": {
        "id": "F1o47P-Vyeth",
        "colab_type": "text"
      },
      "source": [
        "# Backward pass function"
      ]
    },
    {
      "cell_type": "code",
      "metadata": {
        "id": "D-y_BIuaBfiO",
        "colab_type": "code",
        "colab": {}
      },
      "source": [
        "def backpropogation(input_neurons, hidden_neurons, weights):\n",
        "  input_array = np.asarray(input_neurons) # convert to array\n",
        "  weights_array = np.asarray(weights) # convert to array\n",
        "  \n",
        "  output_weights = (np.asarray(weights)[4:]).reshape((2,1)) # extract last 2 elements (w5, w6) from weights array \n",
        "  hidden_layer = hidden_neurons.reshape((2,1))\n",
        "  \n",
        "  hidden_layer = lr_rate * delta * hidden_layer # multiply learning rate and delta\n",
        "  \n",
        "  weights_lastlayer = output_weights - hidden_layer\n",
        "  \n",
        "  hidden_weights = (np.asarray(weights)[:4]).reshape((2,2)).transpose() # extract first 4 (w1, w2, w3, w4) elements from weights array and reshape in 2x2 format\n",
        "  layer = lr_rate * delta * (output_weights.reshape((1,2))) * (input_array.reshape((2,1)))\n",
        "  first_layer = hidden_weights - layer\n",
        "   \n",
        "  newlist = (first_layer.transpose()).tolist() + weights_lastlayer.tolist() \n",
        "  new_weights = list(itertools.chain(*newlist))\n",
        "  \n",
        "  return new_weights"
      ],
      "execution_count": 0,
      "outputs": []
    },
    {
      "cell_type": "markdown",
      "metadata": {
        "id": "O2UnZv20yi7C",
        "colab_type": "text"
      },
      "source": [
        "# Check the results"
      ]
    },
    {
      "cell_type": "code",
      "metadata": {
        "id": "blCnZhOC9kh-",
        "colab_type": "code",
        "outputId": "74648404-1f58-462e-c89a-cbd3185a5ea8",
        "colab": {
          "base_uri": "https://localhost:8080/",
          "height": 67
        }
      },
      "source": [
        "prediction, hidden_neurons = forward_pass(input_l, weights)\n",
        "print('Forward Pass #1 - Prediction :', prediction)\n",
        "delta = np.asscalar(prediction) - actual_output # Calculate Error = Prediction - Actual \n",
        "new_weights = backpropogation(input_l, hidden_neurons, weights)\n",
        "print('Weights after Backpropogation :', new_weights)\n",
        "prediction, hidden_neurons = forward_pass(input_l, new_weights)\n",
        "print('Forward Pass #2 - Prediction :', prediction)"
      ],
      "execution_count": 0,
      "outputs": [
        {
          "output_type": "stream",
          "text": [
            "Forward Pass #1 - Prediction : [0.1589]\n",
            "Weights after Backpropogation : [0.1426165, 0.20892475, 0.14672880000000002, 0.0600932, 0.18490565, 0.09808365000000001]\n",
            "Forward Pass #2 - Prediction : [0.21510117]\n"
          ],
          "name": "stdout"
        }
      ]
    }
  ]
}